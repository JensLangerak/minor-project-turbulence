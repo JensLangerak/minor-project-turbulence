{
 "cells": [
  {
   "cell_type": "code",
   "execution_count": 1,
   "metadata": {
    "collapsed": true
   },
   "outputs": [],
   "source": [
    "import scipy.interpolate as interp\n",
    "import os\n",
    "import openFOAM as foam\n",
    "import sys\n",
    "sys.path.append(\"..\")\n",
    "import numpy as np\n",
    "import csv as csv\n",
    "\n",
    "from tempfile import mkstemp\n",
    "from shutil import move\n",
    "from shutil import copy\n",
    "from os import remove, close\n",
    "import os\n",
    "\n",
    "from sklearn.ensemble import RandomForestRegressor\n",
    "from sklearn.datasets import make_regression\n",
    "from sklearn.tree import export_graphviz\n",
    "import matplotlib.pyplot as plt"
   ]
  },
  {
   "cell_type": "code",
   "execution_count": 2,
   "metadata": {
    "collapsed": true
   },
   "outputs": [],
   "source": [
    "def RANS(Re, TurbModel, time_end, nx_RANS, ny_RANS):\n",
    "    home = os.path.realpath('MinorCSE') + '/'\n",
    "    dir_RANS  = home + ('Re%i_%s' % (Re,TurbModel))\n",
    "    \n",
    "    meshRANSlist  = foam.getRANSVector(dir_RANS, time_end, 'cellCentres')\n",
    "    meshRANS      = foam.getRANSPlane(meshRANSlist,'2D', nx_RANS, ny_RANS, 'vector')\n",
    "    #velocity\n",
    "    U_RANSlist    = foam.getRANSVector(dir_RANS, time_end, 'U')\n",
    "    U_RANS        = foam.getRANSPlane(U_RANSlist,'2D', nx_RANS, ny_RANS, 'vector')\n",
    "    #velocity gradient\n",
    "    gradU_RANSlist  = foam.getRANSTensor(dir_RANS, time_end, 'grad(U)')\n",
    "    gradU_RANS      = foam.getRANSPlane(gradU_RANSlist,'2D', nx_RANS, ny_RANS, 'tensor')\n",
    "    #pressure\n",
    "    p_RANSlist    = foam.getRANSScalar(dir_RANS, time_end, 'p')\n",
    "    p_RANS        = foam.getRANSPlane(p_RANSlist,'2D', nx_RANS, ny_RANS, 'scalar')\n",
    "    #pressure gradient\n",
    "    gradp_RANSlist    = foam.getRANSVector(dir_RANS, time_end, 'grad(p)')\n",
    "    gradp_RANS        = foam.getRANSPlane(gradp_RANSlist,'2D', nx_RANS, ny_RANS, 'vector')\n",
    "    #Reynolds stress tensor\n",
    "    tau_RANSlist  = foam.getRANSSymmTensor(dir_RANS, time_end, 'R')\n",
    "    tau_RANS      = foam.getRANSPlane(tau_RANSlist,'2D', nx_RANS, ny_RANS, 'tensor')\n",
    "    #k\n",
    "    k_RANSlist    = foam.getRANSScalar(dir_RANS, time_end, 'k')\n",
    "    k_RANS        = foam.getRANSPlane(k_RANSlist,'2D', nx_RANS, ny_RANS, 'scalar')\n",
    "    #k gradient\n",
    "    gradk_RANSlist    = foam.getRANSVector(dir_RANS, time_end, 'grad(k)')\n",
    "    gradk_RANS        = foam.getRANSPlane(gradk_RANSlist,'2D', nx_RANS, ny_RANS, 'vector')\n",
    "    #distance to wall\n",
    "    yWall_RANSlist = foam.getRANSScalar(dir_RANS, time_end, 'yWall')\n",
    "    yWall_RANS        = foam.getRANSPlane(yWall_RANSlist,'2D', nx_RANS, ny_RANS, 'scalar')\n",
    "    #omega\n",
    "    omega_RANSlist  = foam.getRANSScalar(dir_RANS, time_end, 'omega')\n",
    "    omega_RANS      = foam.getRANSPlane(omega_RANSlist, '2D', nx_RANS, ny_RANS, 'scalar')\n",
    "    #S R tensor\n",
    "    S_RANS, Omega_RANS  = foam.getSRTensors(gradU_RANS)\n",
    "    \n",
    "    return meshRANS, U_RANS, gradU_RANS, p_RANS, gradp_RANS, tau_RANS, k_RANS, gradk_RANS, yWall_RANS, omega_RANS, S_RANS, Omega_RANS\n",
    "    \n"
   ]
  },
  {
   "cell_type": "code",
   "execution_count": 3,
   "metadata": {
    "collapsed": true
   },
   "outputs": [],
   "source": [
    "def q1(S_RANS, Omega_RANS): \n",
    "    a = np.shape(S_RANS)\n",
    "    q1 = np.zeros((a[2],a[3]))\n",
    "    for i1 in range(a[2]):\n",
    "        for i2 in range(a[3]):               \n",
    "            raw = 0.5*(np.abs(np.trace(np.dot(S_RANS[:,:,i1,i2],S_RANS[:,:,i1,i2]))) - np.abs(np.trace(np.dot(Omega_RANS[:,:,i1,i2],-1*(Omega_RANS[:,:,i1,i2])))))\n",
    "            norm = np.trace(np.dot(S_RANS[:,:,i1,i2],S_RANS[:,:,i1,i2]))\n",
    "            q1[i1,i2] = raw/(np.abs(raw) + np.abs(norm))\n",
    "    return q1\n",
    "\n",
    "def q2(k_RANS, U_RANS):\n",
    "    a = np.shape(k_RANS)\n",
    "    b= np.shape(U_RANS)\n",
    "    #print( \"shape urans=\", b)\n",
    "    q2 = np.zeros((a[1],a[2]))\n",
    "    for i1 in range(a[1]):\n",
    "        for i2 in range(a[2]):               \n",
    "            raw = k_RANS[0,i1,i2]\n",
    "            norm = 0.5*(np.inner(U_RANS[:, i1, i2], U_RANS[:, i1, i2])) # inner is equivalent to sum UiUi\n",
    "            q2[i1,i2] = raw/(np.abs(raw) + np.abs(norm))\n",
    "    return q2\n",
    "\n",
    "    \n",
    "def q3(k_RANS, yWall_RANS, nu=1.4285714285714286e-03):\n",
    "    a = np.shape(k_RANS)\n",
    "    q3 = np.zeros((a[1],a[2]))\n",
    "    for i1 in range(a[1]):\n",
    "        for i2 in range(a[2]):               \n",
    "            q3[i1,i2] = np.minimum((np.sqrt(k_RANS[:,i1,i2][0])*yWall_RANS[:, i1, i2])/(50*nu), 2)\n",
    "    return q3\n",
    "    \n",
    "\n",
    "def q4(U, gradP):\n",
    "    a = np.shape(gradP)\n",
    "    q4 = np.zeros((a[1],a[2]))\n",
    "    for i1 in range(a[1]):\n",
    "        for i2 in range(a[2]):\n",
    "            raw  = np.einsum('k,k', U[:,i1,i2], gradP[:,i1,i2])\n",
    "            norm = np.einsum('j,j,i,i', gradP[:,i1,i2], gradP[:,i1,i2], U[:, i1, i2],U[:, i1, i2])\n",
    "            \n",
    "            q4[i1,i2] = raw / (np.fabs(norm) + np.fabs(raw));\n",
    "    return q4\n",
    "\n",
    "\n",
    "def q5(k_RANS, S_RANS, omega_RANS, Cmu=0.09):\n",
    "    a = np.shape(k_RANS)\n",
    "    q5 = np.zeros((a[1],a[2]))\n",
    "    for i1 in range(a[1]):\n",
    "        for i2 in range(a[2]):    \n",
    "            epsilon = Cmu * k_RANS[:, i1, i2] * omega_RANS[:, i1, i2]\n",
    "            raw = k_RANS[:, i1, i2] / epsilon\n",
    "            norm = 1 / np.sqrt(np.trace(np.dot(S_RANS[:, :, i1, i2],S_RANS[:, :, i1, i2])))\n",
    "            q5[i1,i2] = raw/(np.fabs(raw) + np.fabs(norm))\n",
    "    return q5\n",
    "\n",
    "\n",
    "def q6(gradP, gradU, p_RANS, U_RANS):\n",
    "    a = np.shape(gradP)\n",
    "    q6 = np.zeros((a[1],a[2]))\n",
    "    for i1 in range(a[1]):\n",
    "        for i2 in range(a[2]):\n",
    "            raw  = np.sqrt(np.einsum('i,i', gradP[:, i1, i2], gradP[:, i1, i2]))\n",
    "            norm = np.einsum('k,kk', U_RANS[:, i1, i2], gradU[:, :, i1, i2])\n",
    "           \n",
    "            norm *= 0.5 * p_RANS[0, i1, i2]\n",
    "            q6[i1,i2] = raw/(np.fabs(raw) + np.fabs(norm))\n",
    "    return q6\n",
    "    \n",
    "\n",
    "def q7(U_RANS, gradU_RANS):\n",
    "    a = np.shape(U_RANS)\n",
    "    q7 = np.zeros((a[1],a[2]))\n",
    "    for i1 in range(a[1]):\n",
    "        for i2 in range(a[2]):    \n",
    "            raw = np.fabs(np.einsum('i, j, ij', U_RANS[:, i1, i2], U_RANS[:, i1, i2], gradU_RANS[:, :, i1, i2]))\n",
    "            norm = np.sqrt(np.einsum('l, l, i, ij, k, kj', U_RANS[:, i1, i2], U_RANS[:, i1, i2],U_RANS[:, i1, i2], gradU_RANS[:, :, i1, i2], U_RANS[:, i1, i2], gradU_RANS[:, :, i1, i2]))\n",
    "            q7[i1,i2] = raw/(np.fabs(raw) + np.fabs(norm))\n",
    "    return q7\n",
    "\n",
    "\n",
    "\n",
    "def q8(U, gradK, Tau, S):\n",
    "    a = np.shape(U)\n",
    "    q8 = np.zeros((a[1],a[2]))\n",
    "    for i1 in range(a[1]):\n",
    "        for i2 in range(a[2]):\n",
    "            raw  = np.einsum('i,i',U[:,i1,i2], gradK[:,i1,i2])\n",
    "            norm = np.einsum('jk,jk', Tau[:,:, i1, i2], S[:,:, i1, i2])\n",
    "            q8[i1,i2] = raw/(np.fabs(raw) + np.fabs(norm))              \n",
    "    return q8\n",
    "  \n",
    "\n",
    "def q9(tau_RANS, k_RANS):\n",
    "    a = np.shape(k_RANS)\n",
    "    q9 = np.zeros((a[1],a[2]))\n",
    "    for i1 in range(a[1]):\n",
    "        for i2 in range(a[2]):    \n",
    "            raw = np.sqrt(np.trace(np.dot(tau_RANS[:, :, i1, i2],np.transpose(tau_RANS[:, :, i1, i2]))))\n",
    "            norm = k_RANS[:, i1, i2]\n",
    "            q9[i1,i2] = raw/(np.fabs(raw) + np.fabs(norm))\n",
    "    return q9"
   ]
  },
  {
   "cell_type": "code",
   "execution_count": 4,
   "metadata": {
    "collapsed": true
   },
   "outputs": [],
   "source": [
    "def features(Re, TurbModel='kOmega', time_end=30000, nx_RANS=140, ny_RANS=150):\n",
    "    X = np.zeros((nx_RANS*len(Re) * ny_RANS, 9))\n",
    "    \n",
    "    for i in range(len(Re)):\n",
    "        meshRANS, U_RANS, gradU_RANS, p_RANS, gradp_RANS, tau_RANS, k_RANS, gradk_RANS, yWall_RANS, omega_RANS, S_RANS, Omega_RANS = RANS(Re[i], TurbModel, time_end, nx_RANS, ny_RANS)\n",
    "        feature = np.zeros((9, nx_RANS, ny_RANS))\n",
    "        feature[0,:,:] = q1(S_RANS, Omega_RANS)\n",
    "        feature[1,:,:] = q2(k_RANS, U_RANS)\n",
    "        feature[2,:,:] = q3(k_RANS, yWall_RANS)\n",
    "        feature[3,:,:] = q4(U_RANS, gradp_RANS)\n",
    "        feature[4,:,:] = q5(k_RANS, S_RANS, omega_RANS)\n",
    "        feature[5,:,:] = q6(gradp_RANS, gradU_RANS, p_RANS,U_RANS)\n",
    "        feature[6,:,:] = q7(U_RANS, gradU_RANS)\n",
    "        feature[7,:,:] = q8(U_RANS, gradk_RANS, tau_RANS, S_RANS)\n",
    "        feature[8,:,:] = q9(tau_RANS, k_RANS)\n",
    "        feature = np.reshape(feature.swapaxes(1,2), (nx_RANS*ny_RANS, 9), \"F\")\n",
    "        feature = np.reshape(feature.swapaxes(1,0), (nx_RANS*ny_RANS, 9))\n",
    "        X[i*nx_RANS*ny_RANS:(i+1)*nx_RANS*ny_RANS, :] = feature\n",
    "    return X"
   ]
  },
  {
   "cell_type": "code",
   "execution_count": 5,
   "metadata": {
    "collapsed": true
   },
   "outputs": [],
   "source": [
    "def response(Re, nx_RANS=140, ny_RANS=150): \n",
    "    Y = np.zeros((nx_RANS*len(Re)*ny_RANS, 2))\n",
    "    \n",
    "    for i in range(len(Re)):\n",
    "        home = os.path.realpath('MinorCSE') + '/'\n",
    "        dataset = home + ('DATA_CASE_LES_BREUER') + '/' + ('Re_%i' % Re[i]) + '/' + ('Hill_Re_%i_Breuer.csv' % Re[i])\n",
    "        meshRANS, U_RANS, gradU_RANS, p_RANS, gradp_RANS, tau_RANS, k_RANS, gradk_RANS, yWall_RANS, omega_RANS, S_RANS, Omega_RANS = RANS(Re[i], TurbModel='kOmega', time_end=30000, nx_RANS=140, ny_RANS=150)\n",
    "\n",
    "        dataDNS = foam.loadData_avg(dataset)\n",
    "        dataDNS_i = foam.interpDNSOnRANS(dataDNS, meshRANS)\n",
    "        dataDNS_i['k'] = 0.5 * (dataDNS_i['uu'] + dataDNS_i['vv'] + dataDNS_i['ww'])\n",
    "\n",
    "        l1 = np.shape(U_RANS)[1]\n",
    "        l2 = np.shape(U_RANS)[2]\n",
    "\n",
    "        ReStress_DNS = np.zeros([3,3,l1,l2])\n",
    "        ReStress_DNS[0,0,:,:] = dataDNS_i['uu']\n",
    "        ReStress_DNS[1,1,:,:] = dataDNS_i['vv']\n",
    "        ReStress_DNS[2,2,:,:] = dataDNS_i['ww']\n",
    "        ReStress_DNS[0,1,:,:] = dataDNS_i['uv']\n",
    "        ReStress_DNS[1,0,:,:] = dataDNS_i['uv']\n",
    "\n",
    "        aij_DNS = np.zeros([3,3,l1,l2])\n",
    "        dataRANS_k = np.zeros([l1,l2])\n",
    "        dataRANS_aij = np.zeros([3,3,l1,l2])\n",
    "\n",
    "        for j in range(l1):\n",
    "            for k in range(l2):\n",
    "                aij_DNS[:,:,j,k] = ReStress_DNS[:,:,j,k]/(2.*dataDNS_i['k'][j,k]) - np.diag([1/3.,1/3.,1/3.])\n",
    "                dataRANS_k[j,k] = 0.5 * np.trace(tau_RANS[:,:,j,k])\n",
    "                dataRANS_aij[:,:,j,k] = tau_RANS[:,:,j,k]/(2.*dataRANS_k[j,k]) - np.diag([1/3.,1/3.,1/3.])\n",
    "\n",
    "        eigVal_DNS = foam.calcEigenvalues(ReStress_DNS, dataDNS_i['k'])\n",
    "        baryMap_DNS = foam.barycentricMap(eigVal_DNS)\n",
    "\n",
    "        eigVal_RANS = foam.calcEigenvalues(tau_RANS, dataRANS_k)\n",
    "        baryMap_RANS = foam.barycentricMap(eigVal_RANS)\n",
    "\n",
    "        baryMap_discr = foam.baryMap_discr(baryMap_RANS, baryMap_DNS)\n",
    "        \n",
    "        baryMap_discr = np.reshape(baryMap_discr.swapaxes(1,2), (nx_RANS*ny_RANS, 2), \"F\")\n",
    "        baryMap_discr = np.reshape(baryMap_discr.swapaxes(1,0), (nx_RANS*ny_RANS, 2))\n",
    "\n",
    "        Y[i*nx_RANS*ny_RANS:(i+1)*nx_RANS*ny_RANS, :] = baryMap_discr\n",
    "    return Y"
   ]
  },
  {
   "cell_type": "code",
   "execution_count": 6,
   "metadata": {},
   "outputs": [
    {
     "name": "stdout",
     "output_type": "stream",
     "text": [
      "(84000, 9)\n",
      "140 150\n",
      "140 150\n",
      "140 150\n",
      "140 150\n",
      "140 150\n",
      "140 150\n",
      "140 150\n",
      "140 150\n",
      "(84000, 2)\n",
      "Feature importance : [ 0.03611718  0.05487333  0.51307419  0.02897791  0.19411964  0.01319494\n",
      "  0.01121766  0.02937028  0.11905487]\n"
     ]
    }
   ],
   "source": [
    "Re = [700, 1400, 5600, 10595]\n",
    "X = features(Re)\n",
    "print(np.shape(X))\n",
    "Y = response(Re)\n",
    "print(np.shape(Y))\n",
    "        \n",
    "#regr = RandomForestRegressor(bootstrap=True, criterion='mse', max_depth=5,\n",
    "#           max_features='auto', max_leaf_nodes=None,\n",
    "#           min_impurity_decrease=0.0, min_impurity_split=None,\n",
    "#           min_samples_leaf=1, min_samples_split=2,\n",
    "#           min_weight_fraction_leaf=0.0, n_estimators=10, n_jobs=1,\n",
    "#           oob_score=False, random_state=0, verbose=0, warm_start=False)\n",
    "\n",
    "regr = RandomForestRegressor(n_estimators=10, criterion='mse', max_depth=None, min_samples_split=2, min_samples_leaf=1, \n",
    "min_weight_fraction_leaf=0.0, max_features=7, max_leaf_nodes=None, min_impurity_decrease=0.0, \n",
    "min_impurity_split=None, bootstrap=True, oob_score=False, n_jobs=1, random_state=None, \n",
    "verbose=0, warm_start=False)\n",
    "\n",
    "regr.fit(X, Y)\n",
    "print(\"Feature importance :\", regr.feature_importances_) "
   ]
  },
  {
   "cell_type": "code",
   "execution_count": null,
   "metadata": {},
   "outputs": [],
   "source": []
  },
  {
   "cell_type": "code",
   "execution_count": 7,
   "metadata": {
    "collapsed": true
   },
   "outputs": [],
   "source": [
    "Re = [2800]\n",
    "test_X = features(Re)\n",
    "test_discr = regr.predict(test_X)\n",
    "test_discr = np.reshape(test_discr.swapaxes(1,0), (2, 140, 150))"
   ]
  },
  {
   "cell_type": "code",
   "execution_count": 8,
   "metadata": {},
   "outputs": [
    {
     "name": "stdout",
     "output_type": "stream",
     "text": [
      "140 150\n",
      "140 150\n"
     ]
    }
   ],
   "source": [
    "time_end      = 30000 \n",
    "Re            = 2800\n",
    "TurbModel     = 'kOmega'\n",
    "nx_RANS       = 140\n",
    "ny_RANS       = 150\n",
    "home = os.path.realpath('MinorCSE') + '/'\n",
    "dir_RANS  = home + ('Re%i_%s' % (Re,TurbModel))\n",
    "\n",
    "\n",
    "# Load DNS dataset\n",
    "####################################################################################################\n",
    "dataset = home + ('DATA_CASE_LES_BREUER') + '/' + ('Re_%i' % Re) + '/' + ('Hill_Re_%i_Breuer.csv' % Re)\n",
    "dataDNS = foam.loadData_avg(dataset)\n",
    "\n",
    "\n",
    "# Load RANS mesh\n",
    "###################################################################################################\n",
    "meshRANSlist  = foam.getRANSVector(dir_RANS, time_end, 'cellCentres')\n",
    "meshRANS      = foam.getRANSPlane(meshRANSlist,'2D', nx_RANS, ny_RANS, 'vector')\n",
    "\n",
    "#velocity\n",
    "U_RANSlist    = foam.getRANSVector(dir_RANS, time_end, 'U')\n",
    "U_RANS        = foam.getRANSPlane(U_RANSlist,'2D', nx_RANS, ny_RANS, 'vector')\n",
    "\n",
    "#Reynolds stress tensor\n",
    "tau_RANSlist  = foam.getRANSSymmTensor(dir_RANS, time_end, 'R')\n",
    "tau_RANS      = foam.getRANSPlane(tau_RANSlist,'2D', nx_RANS, ny_RANS, 'tensor')\n",
    "\n",
    "\n",
    "dataDNS_i = foam.interpDNSOnRANS(dataDNS, meshRANS)\n",
    "dataDNS_i['k'] = 0.5 * (dataDNS_i['uu'] + dataDNS_i['vv'] + dataDNS_i['ww'])\n",
    "\n",
    "l1 = np.shape(U_RANS)[1]\n",
    "l2 = np.shape(U_RANS)[2]\n",
    "\n",
    "\n",
    "ReStress_DNS = np.zeros([3,3,l1,l2])\n",
    "\n",
    "ReStress_DNS[0,0,:,:] = dataDNS_i['uu']\n",
    "ReStress_DNS[1,1,:,:] = dataDNS_i['vv']\n",
    "ReStress_DNS[2,2,:,:] = dataDNS_i['ww']\n",
    "ReStress_DNS[0,1,:,:] = dataDNS_i['uv']\n",
    "ReStress_DNS[1,0,:,:] = dataDNS_i['uv']\n",
    "\n",
    "aij_DNS = np.zeros([3,3,l1,l2])\n",
    "dataRANS_k = np.zeros([l1,l2])\n",
    "dataRANS_aij = np.zeros([3,3,l1,l2])\n",
    "\n",
    "for i in range(l1):\n",
    "    for j in range(l2):\n",
    "        aij_DNS[:,:,i,j] = ReStress_DNS[:,:,i,j]/(2.*dataDNS_i['k'][i,j]) - np.diag([1/3.,1/3.,1/3.])\n",
    "        dataRANS_k[i,j] = 0.5 * np.trace(tau_RANS[:,:,i,j])\n",
    "        dataRANS_aij[:,:,i,j] = tau_RANS[:,:,i,j]/(2.*dataRANS_k[i,j]) - np.diag([1/3.,1/3.,1/3.])\n",
    "        \n",
    "\n",
    "\n",
    "\n",
    "eigVal_DNS = foam.calcEigenvalues(ReStress_DNS, dataDNS_i['k'])\n",
    "baryMap_DNS = foam.barycentricMap(eigVal_DNS)\n",
    "\n",
    "eigVal_RANS = foam.calcEigenvalues(tau_RANS, dataRANS_k)\n",
    "baryMap_RANS = foam.barycentricMap(eigVal_RANS)\n",
    "\n",
    "baryMap_discr= foam.baryMap_discr(baryMap_RANS, baryMap_DNS)"
   ]
  },
  {
   "cell_type": "code",
   "execution_count": 9,
   "metadata": {},
   "outputs": [
    {
     "data": {
      "image/png": "[encoded data removed]",
      "text/plain": [
       "<matplotlib.figure.Figure at 0x7f4d4c4512b0>"
      ]
     },
     "metadata": {},
     "output_type": "display_data"
    }
   ],
   "source": [
    "plt.figure()\n",
    "plt.title(\"DNS\")\n",
    "plt.plot(baryMap_DNS[0,:,:],baryMap_DNS[1,:,:],'b*')\n",
    "plt.plot([0,1,0.5,0],[0,0,np.sin(60*(np.pi/180)),0],'k-')\n",
    "plt.axis('equal')\n",
    "plt.show()"
   ]
  },
  {
   "cell_type": "code",
   "execution_count": 10,
   "metadata": {},
   "outputs": [
    {
     "data": {
      "image/png": "[encoded data removed]",
      "text/plain": [
       "<matplotlib.figure.Figure at 0x7f4d4bce1b00>"
      ]
     },
     "metadata": {},
     "output_type": "display_data"
    }
   ],
   "source": [
    "plt.figure()\n",
    "plt.title(\"RANS\")\n",
    "plt.plot(baryMap_RANS[0,:,:],baryMap_RANS[1,:,:],'b*')\n",
    "plt.plot([0,1,0.5,0],[0,0,np.sin(60*(np.pi/180)),0],'k-')\n",
    "plt.axis('equal')\n",
    "plt.show()"
   ]
  },
  {
   "cell_type": "code",
   "execution_count": 11,
   "metadata": {},
   "outputs": [
    {
     "data": {
      "image/png": "[encoded data removed]",
      "text/plain": [
       "<matplotlib.figure.Figure at 0x7f4d4c6d36a0>"
      ]
     },
     "metadata": {},
     "output_type": "display_data"
    }
   ],
   "source": [
    "plt.figure()\n",
    "plt.title(\"Discripancy\")\n",
    "plt.plot(baryMap_discr[0,:,:],baryMap_discr[1,:,:],'b*')\n",
    "plt.plot([0,1,0.5,0],[0,0,np.sin(60*(np.pi/180)),0],'k-')\n",
    "plt.axis('equal')\n",
    "plt.show()"
   ]
  },
  {
   "cell_type": "code",
   "execution_count": 12,
   "metadata": {},
   "outputs": [
    {
     "data": {
      "image/png": "[encoded data removed]",
      "text/plain": [
       "<matplotlib.figure.Figure at 0x7f4d4b6cff60>"
      ]
     },
     "metadata": {},
     "output_type": "display_data"
    }
   ],
   "source": [
    "plt.figure()\n",
    "plt.title(\"Discripancy after RF\")\n",
    "plt.plot(test_discr[0,:,:],test_discr[1,:,:],'b*')\n",
    "plt.plot([0,1,0.5,0],[0,0,np.sin(60*(np.pi/180)),0],'k-')\n",
    "plt.axis('equal')\n",
    "plt.show()"
   ]
  },
  {
   "cell_type": "code",
   "execution_count": null,
   "metadata": {
    "collapsed": true
   },
   "outputs": [],
   "source": []
  },
  {
   "cell_type": "code",
   "execution_count": 13,
   "metadata": {},
   "outputs": [
    {
     "data": {
      "image/png": "[encoded data removed]",
      "text/plain": [
       "<matplotlib.figure.Figure at 0x7f4d4b4a3198>"
      ]
     },
     "metadata": {},
     "output_type": "display_data"
    }
   ],
   "source": [
    "plt.figure()\n",
    "plt.title(\"RANS\")\n",
    "plt.plot(np.add(test_discr[0,:,:], baryMap_RANS[0,:,:]) ,np.add(test_discr[1,:,:],baryMap_RANS[1,:,:]),'b*')\n",
    "plt.plot([0,1,0.5,0],[0,0,np.sin(60*(np.pi/180)),0],'k-')\n",
    "plt.axis('equal')\n",
    "plt.show()"
   ]
  },
  {
   "cell_type": "code",
   "execution_count": null,
   "metadata": {
    "collapsed": true
   },
   "outputs": [],
   "source": []
  },
  {
   "cell_type": "code",
   "execution_count": null,
   "metadata": {},
   "outputs": [],
   "source": []
  },
  {
   "cell_type": "code",
   "execution_count": null,
   "metadata": {},
   "outputs": [],
   "source": []
  },
  {
   "cell_type": "code",
   "execution_count": null,
   "metadata": {
    "collapsed": true
   },
   "outputs": [],
   "source": []
  }
 ],
 "metadata": {
  "kernelspec": {
   "display_name": "Python 3",
   "language": "python",
   "name": "python3"
  },
  "language_info": {
   "codemirror_mode": {
    "name": "ipython",
    "version": 3
   },
   "file_extension": ".py",
   "mimetype": "text/x-python",
   "name": "python",
   "nbconvert_exporter": "python",
   "pygments_lexer": "ipython3",
   "version": "3.6.3"
  }
 },
 "nbformat": 4,
 "nbformat_minor": 2
}
