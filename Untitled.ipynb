{
 "cells": [
  {
   "cell_type": "markdown",
   "metadata": {},
   "source": [
    "# Random Forest"
   ]
  },
  {
   "cell_type": "code",
   "execution_count": 1,
   "metadata": {
    "collapsed": true
   },
   "outputs": [],
   "source": [
    "import numpy as np\n",
    "import matplotlib.pyplot as plt\n",
    "import openFOAM as foam\n",
    "import os\n",
    "import sys\n",
    "sys.path.append(\"..\")\n",
    "from sklearn.ensemble import RandomForestRegressor\n",
    "from __future__ import division\n",
    "import numpy as np\n",
    "import matplotlib.pyplot as plt\n",
    "import os\n",
    "import openFOAM as foam\n",
    "import sys\n",
    "sys.path.append(\"..\")\n",
    "\n",
    "\n",
    "\n",
    "from tempfile import mkstemp\n",
    "from shutil import move\n",
    "from shutil import copy\n",
    "from os import remove, close"
   ]
  },
  {
   "cell_type": "code",
   "execution_count": 2,
   "metadata": {
    "collapsed": true
   },
   "outputs": [],
   "source": [
    " home = os.path.realpath('MinorCSE') + '/' "
   ]
  },
  {
   "cell_type": "code",
   "execution_count": 3,
   "metadata": {
    "collapsed": true
   },
   "outputs": [],
   "source": [
    "##################################################################################################################\n",
    "######################################### Loading the RANS data ##################################################\n",
    "##################################################################################################################\n",
    "def RANS(case, Re, TurbModel, time_end, nx, ny):\n",
    "    dir_RANS  = home + ('%s' % case) + '/' + ('Re%i_%s' % (Re,TurbModel))\n",
    "    mesh_list  = foam.getRANSVector(dir_RANS, time_end, 'cellCentres')\n",
    "    mesh      = foam.getRANSPlane(mesh_list,'2D', nx, ny, 'vector')\n",
    "    #velocity\n",
    "    U_list    = foam.getRANSVector(dir_RANS, time_end, 'U')\n",
    "    U        = foam.getRANSPlane(U_list,'2D', nx, ny, 'vector')\n",
    "    #velocity gradient\n",
    "    gradU_list  = foam.getRANSTensor(dir_RANS, time_end, 'grad(U)')\n",
    "    gradU      = foam.getRANSPlane(gradU_list,'2D', nx, ny, 'tensor')\n",
    "    #pressure\n",
    "    p_list    = foam.getRANSScalar(dir_RANS, time_end, 'p')\n",
    "    p        = foam.getRANSPlane(p_list,'2D', nx, ny, 'scalar')\n",
    "    #pressure gradient\n",
    "    gradp_list    = foam.getRANSVector(dir_RANS, time_end, 'grad(p)')\n",
    "    gradp        = foam.getRANSPlane(gradp_list,'2D', nx, ny, 'vector')\n",
    "    #Reynolds stress tensor\n",
    "    tau_list  = foam.getRANSSymmTensor(dir_RANS, time_end, 'R')\n",
    "    tau      = foam.getRANSPlane(tau_list,'2D', nx, ny, 'tensor')\n",
    "    #k\n",
    "    k_list    = foam.getRANSScalar(dir_RANS, time_end, 'k')\n",
    "    k        = foam.getRANSPlane(k_list,'2D', nx, ny, 'scalar')\n",
    "    #k gradient\n",
    "    gradk_list    = foam.getRANSVector(dir_RANS, time_end, 'grad(k)')\n",
    "    gradk        = foam.getRANSPlane(gradk_list,'2D', nx, ny, 'vector')\n",
    "    #distance to wall\n",
    "    yWall_list = foam.getRANSScalar(dir_RANS, time_end, 'yWall')\n",
    "    yWall        = foam.getRANSPlane(yWall_list,'2D', nx, ny, 'scalar')\n",
    "    #omega\n",
    "    omega_list  = foam.getRANSScalar(dir_RANS, time_end, 'omega')\n",
    "    omega      = foam.getRANSPlane(omega_list, '2D', nx, ny, 'scalar')\n",
    "    #S R tensor\n",
    "    S, Omega  = foam.getSRTensors(gradU)\n",
    "    \n",
    "    return mesh, U, gradU, p, gradp, tau, k, gradk, yWall, omega, S, Omega"
   ]
  },
  {
   "cell_type": "code",
   "execution_count": 4,
   "metadata": {
    "collapsed": true
   },
   "outputs": [],
   "source": [
    "##################################################################################################################\n",
    "######################################### Features  ##############################################################\n",
    "##################################################################################################################\n",
    "def q1(S, Omega): \n",
    "    a = np.shape(S)\n",
    "    q1 = np.zeros((a[2],a[3]))\n",
    "    for i1 in range(a[2]):\n",
    "        for i2 in range(a[3]):               \n",
    "            raw = 0.5*(np.abs(np.trace(np.dot(S[:,:,i1,i2],S[:,:,i1,i2]))) - np.abs(np.trace(np.dot(Omega[:,:,i1,i2],-1*(Omega[:,:,i1,i2])))))\n",
    "            norm = np.trace(np.dot(S[:,:,i1,i2],S[:,:,i1,i2]))\n",
    "            q1[i1,i2] = raw/(np.abs(raw) + np.abs(norm))\n",
    "    return q1\n",
    "\n",
    "def q2(k, U):\n",
    "    a = np.shape(k)\n",
    "    q2 = np.zeros((a[1],a[2]))\n",
    "    for i1 in range(a[1]):\n",
    "        for i2 in range(a[2]):               \n",
    "            raw = k[0,i1,i2]\n",
    "            norm = 0.5*(np.inner(U[:, i1, i2], U[:, i1, i2])) # inner is equivalent to sum UiUi\n",
    "            q2[i1,i2] = raw/(np.abs(raw) + np.abs(norm))\n",
    "    return q2\n",
    "\n",
    "    \n",
    "def q3(k, yWall, nu=1.4285714285714286e-03):\n",
    "    a = np.shape(k)\n",
    "    q3 = np.zeros((a[1],a[2]))\n",
    "    for i1 in range(a[1]):\n",
    "        for i2 in range(a[2]):               \n",
    "            q3[i1,i2] = np.minimum((np.sqrt(k[:,i1,i2][0])*yWall[:, i1, i2])/(50*nu), 2)\n",
    "    return q3\n",
    "    \n",
    "\n",
    "def q4(U, gradP):\n",
    "    a = np.shape(gradP)\n",
    "    q4 = np.zeros((a[1],a[2]))\n",
    "    for i1 in range(a[1]):\n",
    "        for i2 in range(a[2]):\n",
    "            raw  = np.einsum('k,k', U[:,i1,i2], gradP[:,i1,i2])\n",
    "            norm = np.einsum('j,j,i,i', gradP[:,i1,i2], gradP[:,i1,i2], U[:, i1, i2],U[:, i1, i2])\n",
    "            \n",
    "            q4[i1,i2] = raw / (np.fabs(norm) + np.fabs(raw));\n",
    "    return q4\n",
    "\n",
    "\n",
    "def q5(k, S, omega, Cmu=0.09):\n",
    "    a = np.shape(k)\n",
    "    q5 = np.zeros((a[1],a[2]))\n",
    "    for i1 in range(a[1]):\n",
    "        for i2 in range(a[2]):    \n",
    "            epsilon = Cmu * k[:, i1, i2] * omega[:,i1,i2]\n",
    "            raw = k[:,i1,i2] / epsilon\n",
    "            norm = 1 / np.sqrt(np.trace(np.dot(S[:,:,i1,i2], S[:,:,i1,i2])))\n",
    "            q5[i1,i2] = raw/(np.fabs(raw) + np.fabs(norm))\n",
    "    return q5\n",
    "\n",
    "\n",
    "def q6(gradP, gradU, p, U):\n",
    "    a = np.shape(gradP)\n",
    "    q6 = np.zeros((a[1],a[2]))\n",
    "    for i1 in range(a[1]):\n",
    "        for i2 in range(a[2]):\n",
    "            raw  = np.sqrt(np.einsum('i,i', gradP[:,i1,i2], gradP[:,i1,i2]))\n",
    "            norm = np.einsum('k, kk', U[:,i1,i2], gradU[:,:,i1,i2])\n",
    "           \n",
    "            norm *= 0.5 * p[0,i1,i2]\n",
    "            q6[i1,i2] = raw/(np.fabs(raw) + np.fabs(norm))\n",
    "    return q6\n",
    "    \n",
    "\n",
    "def q7(U, gradU):\n",
    "    a = np.shape(U)\n",
    "    q7 = np.zeros((a[1],a[2]))\n",
    "    for i1 in range(a[1]):\n",
    "        for i2 in range(a[2]):    \n",
    "            raw = np.fabs(np.einsum('i, j, ij', U[:,i1,i2], U[:,i1,i2], gradU[:,:,i1,i2]))\n",
    "            norm = np.sqrt(np.einsum('l, l, i, ij, k, kj', U[:,i1,i2], U[:,i1,i2], U[:,i1,i2], gradU[:,:,i1,i2], U[:,i1,i2], gradU[:,:,i1,i2]))\n",
    "            q7[i1,i2] = raw/(np.fabs(raw) + np.fabs(norm))\n",
    "    return q7\n",
    "\n",
    "\n",
    "\n",
    "def q8(U, gradK, Tau, S):\n",
    "    a = np.shape(U)\n",
    "    q8 = np.zeros((a[1],a[2]))\n",
    "    for i1 in range(a[1]):\n",
    "        for i2 in range(a[2]):\n",
    "            raw  = np.einsum('i,i', U[:,i1,i2], gradK[:,i1,i2])\n",
    "            norm = np.einsum('jk,jk', Tau[:,:,i1,i2], S[:,:,i1,i2])\n",
    "            q8[i1,i2] = raw/(np.fabs(raw) + np.fabs(norm))              \n",
    "    return q8\n",
    "  \n",
    "\n",
    "def q9(tau, k):\n",
    "    a = np.shape(k)\n",
    "    q9 = np.zeros((a[1],a[2]))\n",
    "    for i1 in range(a[1]):\n",
    "        for i2 in range(a[2]):    \n",
    "            raw = np.sqrt(np.trace(np.dot(tau[:,:,i1,i2], np.transpose(tau[:,:,i1,i2]))))\n",
    "            norm = k[:,i1,i2]\n",
    "            q9[i1,i2] = raw/(np.fabs(raw) + np.fabs(norm))\n",
    "    return q9   "
   ]
  },
  {
   "cell_type": "code",
   "execution_count": 5,
   "metadata": {
    "collapsed": true
   },
   "outputs": [],
   "source": [
    "##################################################################################################################\n",
    "######################################### Feature function #######################################################\n",
    "##################################################################################################################\n",
    "    \n",
    "def features(case, Re, TurbModel, time_end, nx, ny):\n",
    "    X = np.zeros((nx*len(Re) * ny, 9))\n",
    "    \n",
    "    for i in range(len(Re)):\n",
    "        meshRANS, U_RANS, gradU_RANS, p_RANS, gradp_RANS, tau_RANS, k_RANS, gradk_RANS, yWall_RANS, omega_RANS, S_RANS, Omega_RANS = RANS(case, Re[i], TurbModel, time_end, nx, ny)\n",
    "        feature = np.zeros((9, nx, ny))\n",
    "        feature[0,:,:] = q1(S_RANS, Omega_RANS)\n",
    "        feature[1,:,:] = q2(k_RANS, U_RANS)\n",
    "        feature[2,:,:] = q3(k_RANS, yWall_RANS)\n",
    "        feature[3,:,:] = q4(U_RANS, gradp_RANS)\n",
    "        feature[4,:,:] = q5(k_RANS, S_RANS, omega_RANS)\n",
    "        feature[5,:,:] = q6(gradp_RANS, gradU_RANS, p_RANS,U_RANS)\n",
    "        feature[6,:,:] = q7(U_RANS, gradU_RANS)\n",
    "        feature[7,:,:] = q8(U_RANS, gradk_RANS, tau_RANS, S_RANS)\n",
    "        feature[8,:,:] = q9(tau_RANS, k_RANS)\n",
    "        feature = np.reshape(feature.swapaxes(1,2), (nx*ny, 9), \"F\")\n",
    "        feature = np.reshape(feature.swapaxes(1,0), (nx*ny, 9))\n",
    "        X[i*nx*ny:(i+1)*nx*ny, :] = feature\n",
    "    return X"
   ]
  },
  {
   "cell_type": "code",
   "execution_count": 6,
   "metadata": {
    "collapsed": true
   },
   "outputs": [],
   "source": [
    "def response(case, Re, nx, ny, train): \n",
    "    if train ==True:\n",
    "        print('train = true')\n",
    "        Y = np.zeros((nx*len(Re)*ny, 6))\n",
    "        for i in range(len(Re)):\n",
    "            dataset = home + ('%s' % (case)) + '/' + ('DATA_CASE_LES_BREUER') + '/' + ('Re_%i' % Re[i]) + '/' + ('Hill_Re_%i_Breuer.csv' % Re[i])\n",
    "            meshRANS, U_RANS, gradU_RANS, p_RANS, gradp_RANS, tau_RANS, k_RANS, gradk_RANS, yWall_RANS, omega_RANS, S_RANS, Omega_RANS = RANS(case, Re[i], TurbModel='kOmega', time_end=30000, nx=140, ny=150)\n",
    "\n",
    "            dataDNS = foam.loadData_avg(dataset)\n",
    "            dataDNS_i = foam.interpDNSOnRANS(dataDNS, meshRANS)\n",
    "            dataDNS_i['k'] = 0.5 * (dataDNS_i['uu'] + dataDNS_i['vv'] + dataDNS_i['ww'])\n",
    "\n",
    "            l1 = np.shape(U_RANS)[1]\n",
    "            l2 = np.shape(U_RANS)[2]\n",
    "\n",
    "            ReStress_DNS = np.zeros([3,3,l1,l2])\n",
    "            ReStress_DNS[0,0,:,:] = dataDNS_i['uu']\n",
    "            ReStress_DNS[1,1,:,:] = dataDNS_i['vv']\n",
    "            ReStress_DNS[2,2,:,:] = dataDNS_i['ww']\n",
    "            ReStress_DNS[0,1,:,:] = dataDNS_i['uv']\n",
    "            ReStress_DNS[1,0,:,:] = dataDNS_i['uv']\n",
    "\n",
    "            aij_DNS = np.zeros([3,3,l1,l2])\n",
    "            dataRANS_k = np.zeros([l1,l2])\n",
    "            dataRANS_aij = np.zeros([3,3,l1,l2])\n",
    "\n",
    "            for j in range(l1):\n",
    "                for k in range(l2):\n",
    "                    aij_DNS[:,:,j,k] = ReStress_DNS[:,:,j,k]/(2.*dataDNS_i['k'][j,k]) - np.diag([1/3.,1/3.,1/3.])\n",
    "                    dataRANS_k[j,k] = 0.5 * np.trace(tau_RANS[:,:,j,k])\n",
    "                    dataRANS_aij[:,:,j,k] = tau_RANS[:,:,j,k]/(2.*dataRANS_k[j,k]) - np.diag([1/3.,1/3.,1/3.])\n",
    "\n",
    "            aneigVal_DNS = foam.calcEigenvalues(ReStress_DNS, dataDNS_i['k'])\n",
    "            baryMap_DNS = foam.barycentricMap(aneigVal_DNS)\n",
    "\n",
    "            aneigVal_RANS = foam.calcEigenvalues(tau_RANS, dataRANS_k)\n",
    "            baryMap_RANS = foam.barycentricMap(aneigVal_RANS)\n",
    "\n",
    "            \n",
    "            eigVal_RANS, eigVec_RANS = foam.eigenDecomposition(dataRANS_aij)\n",
    "            eigVal_DNS, eigVec_DNS = foam.eigenDecomposition(aij_DNS)\n",
    "            \n",
    "            phi_RANS =  np.reshape(( np.reshape((foam.eigenvectorToEuler(eigVec_RANS)).swapaxes(1,2), (nx*ny, 3), \"F\")).swapaxes(1,0), (nx*ny, 3))\n",
    "            phi_DNS =  np.reshape(( np.reshape((foam.eigenvectorToEuler(eigVec_DNS)).swapaxes(1,2), (nx*ny, 3), \"F\")).swapaxes(1,0), (nx*ny, 3))\n",
    "            \n",
    "            baryMap_discr = np.reshape(( np.reshape((foam.baryMap_discr(baryMap_RANS, baryMap_DNS)).swapaxes(1,2), (nx*ny, 2), \"F\")).swapaxes(1,0), (nx*ny, 2))\n",
    "\n",
    "            phi_discr = phi_DNS - phi_RANS\n",
    "            k_discr = np.reshape(( np.reshape((dataDNS_i['k'] - k_RANS).swapaxes(1,2), (nx*ny, 1), \"F\")).swapaxes(1,0), (nx*ny, 1))\n",
    "        \n",
    "            Y[i*nx*ny:(i+1)*nx*ny, 0:2] = baryMap_discr\n",
    "            Y[i*nx*ny:(i+1)*nx*ny, 2:5] = phi_discr\n",
    "            Y[i*nx*ny:(i+1)*nx*ny, 5] = k_discr[:,0]\n",
    "            \n",
    "\n",
    "        print('return Y')\n",
    "        return Y\n",
    "    \n",
    "    else:\n",
    "        print('train = false')\n",
    "        for i in range(len(Re)):\n",
    "            dataset = home + ('%s' % (case)) + '/' + ('DATA_CASE_LES_BREUER') + '/' + ('Re_%i' % Re[i]) + '/' + ('Hill_Re_%i_Breuer.csv' % Re[i])\n",
    "            meshRANS, U_RANS, gradU_RANS, p_RANS, gradp_RANS, tau_RANS, k_RANS, gradk_RANS, yWall_RANS, omega_RANS, S_RANS, Omega_RANS = RANS(case, Re[i], TurbModel='kOmega', time_end=30000, nx=140, ny=150)\n",
    "\n",
    "            dataDNS = foam.loadData_avg(dataset)\n",
    "            dataDNS_i = foam.interpDNSOnRANS(dataDNS, meshRANS)\n",
    "            dataDNS_i['k'] = 0.5 * (dataDNS_i['uu'] + dataDNS_i['vv'] + dataDNS_i['ww'])\n",
    "\n",
    "            l1 = np.shape(U_RANS)[1]\n",
    "            l2 = np.shape(U_RANS)[2]\n",
    "\n",
    "            ReStress_DNS = np.zeros([3,3,l1,l2])\n",
    "            ReStress_DNS[0,0,:,:] = dataDNS_i['uu']\n",
    "            ReStress_DNS[1,1,:,:] = dataDNS_i['vv']\n",
    "            ReStress_DNS[2,2,:,:] = dataDNS_i['ww']\n",
    "            ReStress_DNS[0,1,:,:] = dataDNS_i['uv']\n",
    "            ReStress_DNS[1,0,:,:] = dataDNS_i['uv']\n",
    "\n",
    "            aij_DNS = np.zeros([3,3,l1,l2])\n",
    "            dataRANS_k = np.zeros([l1,l2])\n",
    "            dataRANS_aij = np.zeros([3,3,l1,l2])\n",
    "\n",
    "            for j in range(l1):\n",
    "                for k in range(l2):\n",
    "                    aij_DNS[:,:,j,k] = ReStress_DNS[:,:,j,k]/(2.*dataDNS_i['k'][j,k]) - np.diag([1/3.,1/3.,1/3.])\n",
    "                    dataRANS_k[j,k] = 0.5 * np.trace(tau_RANS[:,:,j,k])\n",
    "                    dataRANS_aij[:,:,j,k] = tau_RANS[:,:,j,k]/(2.*dataRANS_k[j,k]) - np.diag([1/3.,1/3.,1/3.])\n",
    "\n",
    "        \n",
    "            eigVal_DNS = foam.calcEigenvalues(ReStress_DNS, dataDNS_i['k'])\n",
    "            print(np.shape(eigVal_DNS))\n",
    "            baryMap_DNS = foam.barycentricMap(eigVal_DNS)\n",
    "            print(np.shape(baryMap_DNS))\n",
    "\n",
    "            eigVal_RANS = foam.calcEigenvalues(tau_RANS, dataRANS_k)\n",
    "            baryMap_RANS = foam.barycentricMap(eigVal_RANS)\n",
    "            print(np.shape(baryMap_RANS))\n",
    "            baryMap_discr = foam.baryMap_discr(baryMap_RANS, baryMap_DNS)\n",
    "            print(np.shape(baryMap_discr))\n",
    "            print('return bary')\n",
    "            return baryMap_RANS, baryMap_DNS, baryMap_discr"
   ]
  },
  {
   "cell_type": "code",
   "execution_count": 7,
   "metadata": {},
   "outputs": [
    {
     "data": {
      "text/plain": [
       "\"case = 'ConvergingDivergingChannel'\\nRe = [12600]\\nTurbModel = ='kOmega'\\ndir_RANS  = home + ('%s' % case) + '/' + ('Re%i_%s_100' % (Re,TurbModel))\\nf = features(Re, TurbModel='kOmega', time_end=7000, nx=140, ny=100)\\n\""
      ]
     },
     "execution_count": 7,
     "metadata": {},
     "output_type": "execute_result"
    }
   ],
   "source": [
    "##################################################################################################################\n",
    "######################################### Random forest ##########################################################\n",
    "##################################################################################################################\n",
    "\n",
    "case = 'PeriodicHills'\n",
    "\n",
    "# Training\n",
    "Re = [700, 1400, 2800, 5600, 10595]\n",
    "Re_train = np.delete(Re, 0)\n",
    "TurbModel = 'kOmega'\n",
    "X_train = features('PeriodicHills', Re_train, TurbModel='kOmega', time_end=30000, nx=140, ny=150)\n",
    "\n",
    "'''\n",
    "case = 'SquareDuct'\n",
    "Re = [1800, 2000, 2200, 2400, 2600, 2900, 3200, 3500] \n",
    "Re_train = np.delete(Re, 2)\n",
    "TurbModel = 'kOmega'\n",
    "f = features(case, Re_train, TurbModel='kOmega', time_end=40000, nx=150, ny=150)\n",
    "'''\n",
    "'''case = 'ConvergingDivergingChannel'\n",
    "Re = [12600]\n",
    "TurbModel = ='kOmega'\n",
    "dir_RANS  = home + ('%s' % case) + '/' + ('Re%i_%s_100' % (Re,TurbModel))\n",
    "f = features(Re, TurbModel='kOmega', time_end=7000, nx=140, ny=100)\n",
    "'''                                        "
   ]
  },
  {
   "cell_type": "code",
   "execution_count": 8,
   "metadata": {},
   "outputs": [
    {
     "name": "stdout",
     "output_type": "stream",
     "text": [
      "train = true\n",
      "return Y\n",
      "Feature importance : [ 0.07255675  0.29841069  0.16317753  0.20662508  0.03112755  0.0747468\n",
      "  0.05620526  0.06641984  0.03073049]\n"
     ]
    }
   ],
   "source": [
    "Y_train = response('PeriodicHills', Re_train, nx=140, ny=150, train = True)\n",
    "\n",
    "regr = RandomForestRegressor(n_estimators=10, criterion='mse', max_depth=None, min_samples_split=2, min_samples_leaf=1, \n",
    "    min_weight_fraction_leaf=0.0, max_features='auto', max_leaf_nodes=None, min_impurity_decrease=0.0, \n",
    "    min_impurity_split=None, bootstrap=True, oob_score=False, n_jobs=1, random_state=None, \n",
    "    verbose=0, warm_start=False)\n",
    "\n",
    "regr.fit(X_train, Y_train)\n",
    "print(\"Feature importance :\", regr.feature_importances_) \n"
   ]
  },
  {
   "cell_type": "code",
   "execution_count": null,
   "metadata": {},
   "outputs": [],
   "source": []
  },
  {
   "cell_type": "code",
   "execution_count": 13,
   "metadata": {},
   "outputs": [
    {
     "name": "stdout",
     "output_type": "stream",
     "text": [
      "[700]\n",
      "(21000, 9)\n",
      "(21000, 6)\n"
     ]
    }
   ],
   "source": [
    "# Testing\n",
    "Re_test = [Re[0]]\n",
    "print(Re_test)\n",
    "\n",
    "test_X = features('PeriodicHills', Re_test, TurbModel='kOmega', time_end=30000, nx=140, ny=150)\n",
    "test_discr = regr.predict(test_X)\n",
    "test_discr = np.reshape(test_discr.swapaxes(1,0), (6, 140, 150))"
   ]
  },
  {
   "cell_type": "code",
   "execution_count": 14,
   "metadata": {},
   "outputs": [
    {
     "name": "stdout",
     "output_type": "stream",
     "text": [
      "train = false\n",
      "(3, 140, 150)\n",
      "(2, 140, 150)\n",
      "(2, 140, 150)\n",
      "(2, 140, 150)\n",
      "return bary\n"
     ]
    }
   ],
   "source": [
    "baryMap_RANS, baryMap_DNS, baryMap_discr = response('PeriodicHills', Re_test, nx=140, ny=150, train = False)"
   ]
  },
  {
   "cell_type": "code",
   "execution_count": 15,
   "metadata": {},
   "outputs": [
    {
     "data": {
      "image/png": "[encoded data removed]",
      "text/plain": [
       "<matplotlib.figure.Figure at 0x7f56d2953400>"
      ]
     },
     "metadata": {},
     "output_type": "display_data"
    },
    {
     "data": {
      "image/png": "[encoded data removed]",
      "text/plain": [
       "<matplotlib.figure.Figure at 0x7f56d2f0b470>"
      ]
     },
     "metadata": {},
     "output_type": "display_data"
    },
    {
     "data": {
      "image/png": "[encoded data removed]",
      "text/plain": [
       "<matplotlib.figure.Figure at 0x7f56d2e81240>"
      ]
     },
     "metadata": {},
     "output_type": "display_data"
    },
    {
     "data": {
      "image/png": "[encoded data removed]",
      "text/plain": [
       "<matplotlib.figure.Figure at 0x7f56d2834f98>"
      ]
     },
     "metadata": {},
     "output_type": "display_data"
    },
    {
     "data": {
      "image/png": "[encoded data removed]",
      "text/plain": [
       "<matplotlib.figure.Figure at 0x7f56cabfe6d8>"
      ]
     },
     "metadata": {},
     "output_type": "display_data"
    },
    {
     "data": {
      "text/plain": [
       "'\\nplt.figure()\\nplt.title(\"Velocity from DNS\")\\nplt.contourf(meshRANS[0,:,:], meshRANS[1,:,:], dataDNS_i[\\'um\\'],20)\\nplt.show()\\n\\nplt.figure()\\nplt.title(\"Velocity from RANS\")\\nplt.contourf(meshRANS[0,:,:], meshRANS[1,:,:], U_RANS[0,:,:],20)\\nplt.show()\\n\\nplt.figure()\\nplt.title(\"k from DNS\")\\nplt.contourf(meshRANS[0,:,:], meshRANS[1,:,:], dataDNS_i[\\'k\\'],20)\\nplt.show()\\n \\nplt.figure()\\nplt.title(\"k from RANS\") \\nplt.contourf(meshRANS[0,:,:], meshRANS[1,:,:], dataRANS_k,20)\\nplt.show()\\n\\nplt.figure()\\nplt.title(\"dist\")\\nplt.contourf(meshRANS[0,:,:], meshRANS[1,:,:], foam.baryMap_dist(baryMap_RANS,baryMap_DNS))\\nplt.show()\\n\\nplt.figure()\\nplt.title(\"Feature 6\")\\nplt.contourf(meshRANS[0,:,:], meshRANS[1,:,:], q6(gradp_RANS, gradU_RANS, p_RANS,U_RANS))\\nplt.show()\\n'"
      ]
     },
     "execution_count": 15,
     "metadata": {},
     "output_type": "execute_result"
    }
   ],
   "source": [
    "# Plots\n",
    "\n",
    "plt.figure()\n",
    "plt.title('DNS %s_Re%i' % (case, Re_test[0]))\n",
    "plt.plot(baryMap_DNS[0,:,:],baryMap_DNS[1,:,:],'b*')\n",
    "plt.plot([0,1,0.5,0],[0,0,np.sin(60*(np.pi/180)),0],'k-')\n",
    "plt.axis('equal')\n",
    "plt.show()\n",
    "\n",
    "plt.figure()\n",
    "plt.title(\"RANS %s_Re%i corrected with predicted descripancies from RF\" % (case, Re_test[0]))\n",
    "plt.plot(np.add(test_discr[0,:,:], baryMap_RANS[0,:,:]) ,np.add(test_discr[1,:,:],baryMap_RANS[1,:,:]),'b*')\n",
    "plt.plot([0,1,0.5,0],[0,0,np.sin(60*(np.pi/180)),0],'k-')\n",
    "plt.axis('equal')\n",
    "plt.show()\n",
    "\n",
    "plt.figure()\n",
    "plt.title(\"RANS %s_Re%i\" % (case, Re_test[0]))\n",
    "plt.plot(baryMap_RANS[0,:,:],baryMap_RANS[1,:,:],'b*')\n",
    "plt.plot([0,1,0.5,0],[0,0,np.sin(60*(np.pi/180)),0],'k-')\n",
    "plt.axis('equal')\n",
    "plt.show()\n",
    "\n",
    "plt.figure()\n",
    "plt.title(\"Eigenvalue discripancy %s_Re%i\" % (case, Re_test[0]))\n",
    "plt.plot(baryMap_discr[0,:,:],baryMap_discr[1,:,:],'b*')\n",
    "plt.plot([0,1,0.5,0],[0,0,np.sin(60*(np.pi/180)),0],'k-')\n",
    "plt.axis('equal')\n",
    "plt.show()\n",
    "\n",
    "plt.figure()\n",
    "plt.title(\"Discripancy after RF %s_Re%i\" % (case, Re_test[0]))\n",
    "plt.plot(test_discr[0,:,:],test_discr[1,:,:],'b*')\n",
    "plt.plot([0,1,0.5,0],[0,0,np.sin(60*(np.pi/180)),0],'k-')\n",
    "plt.axis('equal')\n",
    "plt.show()\n",
    "\n",
    "'''\n",
    "plt.figure()\n",
    "plt.title(\"Velocity from DNS\")\n",
    "plt.contourf(meshRANS[0,:,:], meshRANS[1,:,:], dataDNS_i['um'],20)\n",
    "plt.show()\n",
    "\n",
    "plt.figure()\n",
    "plt.title(\"Velocity from RANS\")\n",
    "plt.contourf(meshRANS[0,:,:], meshRANS[1,:,:], U_RANS[0,:,:],20)\n",
    "plt.show()\n",
    "\n",
    "plt.figure()\n",
    "plt.title(\"k from DNS\")\n",
    "plt.contourf(meshRANS[0,:,:], meshRANS[1,:,:], dataDNS_i['k'],20)\n",
    "plt.show()\n",
    " \n",
    "plt.figure()\n",
    "plt.title(\"k from RANS\") \n",
    "plt.contourf(meshRANS[0,:,:], meshRANS[1,:,:], dataRANS_k,20)\n",
    "plt.show()\n",
    "\n",
    "plt.figure()\n",
    "plt.title(\"dist\")\n",
    "plt.contourf(meshRANS[0,:,:], meshRANS[1,:,:], foam.baryMap_dist(baryMap_RANS,baryMap_DNS))\n",
    "plt.show()\n",
    "\n",
    "plt.figure()\n",
    "plt.title(\"Feature 6\")\n",
    "plt.contourf(meshRANS[0,:,:], meshRANS[1,:,:], q6(gradp_RANS, gradU_RANS, p_RANS,U_RANS))\n",
    "plt.show()\n",
    "'''"
   ]
  },
  {
   "cell_type": "markdown",
   "metadata": {},
   "source": []
  },
  {
   "cell_type": "code",
   "execution_count": null,
   "metadata": {
    "collapsed": true
   },
   "outputs": [],
   "source": []
  }
 ],
 "metadata": {
  "kernelspec": {
   "display_name": "Python 3",
   "language": "python",
   "name": "python3"
  },
  "language_info": {
   "codemirror_mode": {
    "name": "ipython",
    "version": 3
   },
   "file_extension": ".py",
   "mimetype": "text/x-python",
   "name": "python",
   "nbconvert_exporter": "python",
   "pygments_lexer": "ipython3",
   "version": "3.6.3"
  }
 },
 "nbformat": 4,
 "nbformat_minor": 2
}
