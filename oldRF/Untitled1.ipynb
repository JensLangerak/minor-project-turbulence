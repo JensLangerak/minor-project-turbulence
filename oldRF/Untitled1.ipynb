{
 "cells": [
  {
   "cell_type": "code",
   "execution_count": 1,
   "metadata": {
    "collapsed": true
   },
   "outputs": [],
   "source": [
    "import numpy as np\n"
   ]
  },
  {
   "cell_type": "markdown",
   "metadata": {},
   "source": [
    "## Reshape arrays\n",
    "\n",
    "You can interpret the shape of an array as follows: (3, 140, 150) means that there are 3 'datablocks' which consist of 2D arrays of 140 rows and 150 columns. "
   ]
  },
  {
   "cell_type": "code",
   "execution_count": null,
   "metadata": {
    "collapsed": true
   },
   "outputs": [],
   "source": []
  },
  {
   "cell_type": "markdown",
   "metadata": {},
   "source": [
    "The above function gets the openFOAM data and places it in a 'grid structure' instead of just a list of all gridpoints. "
   ]
  },
  {
   "cell_type": "code",
   "execution_count": null,
   "metadata": {
    "collapsed": true
   },
   "outputs": [],
   "source": []
  },
  {
   "cell_type": "markdown",
   "metadata": {},
   "source": [
    "Shape of mesh_list:      (3, 21000)    -> shape of mesh:      (3, 140, 150)\n",
    "Shape of U_list:         (3, 21000)    -> Shape of U:         (3, 140, 150)\n",
    "Shape of gradU_list:  (3, 3, 21000)    -> shape of gradU:  (3, 3, 140, 150)\n",
    "Shape of p_list:         (1, 21000)    -> shape of p:         (1, 140, 150)\n",
    "Shape of gradp_list:     (3, 21000)    -> shape of gradp:     (3, 140, 150)\n",
    "Shape of tau_list:    (3, 3, 21000)    -> shape of tau:    (3, 3, 140, 150)\n",
    "shape of k_list:         (1, 21000)    -> shape of k:         (1, 140, 150)\n",
    "Shape of gradk_list:     (3, 21000)    -> Shape of gradk:     (3, 140, 150)\n",
    "Shape of Omega:                                            (3, 3, 140, 150)\n",
    "Shape of S:                                                (3, 3, 140, 150)\n",
    "\n",
    "\n",
    "We recognize three options. First one is a scalar (1, 140, 150) which assigns one value to every gridpoint. The second shape is a vector (3, 140, 150). And the last one is a tensor (3, 3, 140, 150)."
   ]
  },
  {
   "cell_type": "code",
   "execution_count": 2,
   "metadata": {
    "collapsed": true
   },
   "outputs": [],
   "source": [
    "##################################################################################################################\n",
    "######################################### Feature function #######################################################\n",
    "##################################################################################################################\n",
    "    \n",
    "def features(case, Re, TurbModel, time_end, nx, ny):\n",
    "    X = np.zeros((nx*len(Re) * ny, 9))\n",
    "    \n",
    "    for i in range(len(Re)):\n",
    "        meshRANS, U_RANS, gradU_RANS, p_RANS, gradp_RANS, tau_RANS, k_RANS, gradk_RANS, yWall_RANS, omega_RANS, S_RANS, Omega_RANS = RANS(case, Re[i], TurbModel, time_end, nx, ny)\n",
    "        feature = np.zeros((9, nx, ny))\n",
    "        feature[0,:,:] = q1(S_RANS, Omega_RANS)\n",
    "        feature[1,:,:] = q2(k_RANS, U_RANS)\n",
    "        feature[2,:,:] = q3(k_RANS, yWall_RANS)\n",
    "        feature[3,:,:] = q4(U_RANS, gradp_RANS)\n",
    "        feature[4,:,:] = q5(k_RANS, S_RANS, omega_RANS)\n",
    "        feature[5,:,:] = q6(gradp_RANS, gradU_RANS, p_RANS,U_RANS)\n",
    "        feature[6,:,:] = q7(U_RANS, gradU_RANS)\n",
    "        feature[7,:,:] = q8(U_RANS, gradk_RANS, tau_RANS, S_RANS)\n",
    "        feature[8,:,:] = q9(tau_RANS, k_RANS)\n",
    "        feature = np.reshape(feature.swapaxes(1,2), (nx*ny, 9), \"F\")\n",
    "        feature = np.reshape(feature.swapaxes(1,0), (nx*ny, 9))\n",
    "        X[i*nx*ny:(i+1)*nx*ny, :] = feature\n",
    "    return X"
   ]
  },
  {
   "cell_type": "markdown",
   "metadata": {},
   "source": [
    "### Example features\n",
    "\n",
    "Suppose we have the grid: nx = 3, ny = 5. So we have 15 gridpoints."
   ]
  },
  {
   "cell_type": "code",
   "execution_count": 3,
   "metadata": {},
   "outputs": [
    {
     "name": "stdout",
     "output_type": "stream",
     "text": [
      "q1\n",
      "[[  0   9  18  27  36]\n",
      " [ 45  54  63  72  81]\n",
      " [ 90  99 108 117 126]]\n",
      "\n",
      "q2\n",
      "[[   1.   10.   19.   28.   37.]\n",
      " [  46.   55.   64.   73.   82.]\n",
      " [  91.  100.  109.  118.  127.]]\n",
      "\n",
      "q6\n",
      "[[   5.   14.   23.   32.   41.]\n",
      " [  50.   59.   68.   77.   86.]\n",
      " [  95.  104.  113.  122.  131.]]\n"
     ]
    }
   ],
   "source": [
    "q1 = 9* np.arange(15).reshape(3, 5)\n",
    "q2 = np.add(np.ones(15).reshape(3, 5), 9*np.arange(15).reshape(3, 5))\n",
    "q3 = np.add(2*np.ones(15).reshape(3, 5), 9*np.arange(15).reshape(3, 5))\n",
    "q4 = np.add(3*np.ones(15).reshape(3, 5), 9*np.arange(15).reshape(3, 5))\n",
    "q5 = np.add(4*np.ones(15).reshape(3, 5), 9*np.arange(15).reshape(3, 5))\n",
    "q6 = np.add(5*np.ones(15).reshape(3, 5), 9*np.arange(15).reshape(3, 5))\n",
    "q7 = np.add(6*np.ones(15).reshape(3, 5), 9*np.arange(15).reshape(3, 5))\n",
    "q8 = np.add(7*np.ones(15).reshape(3, 5), 9*np.arange(15).reshape(3, 5))\n",
    "q9 = np.add(8*np.ones(15).reshape(3, 5), 9*np.arange(15).reshape(3, 5))\n",
    "\n",
    "print(\"q1\")\n",
    "print(q1)\n",
    "print()\n",
    "print(\"q2\")\n",
    "print(q2)\n",
    "print()\n",
    "print(\"q6\")\n",
    "print(q6)"
   ]
  },
  {
   "cell_type": "markdown",
   "metadata": {},
   "source": [
    "The first two features are printed above, as we can see it gives a scalar for every gridpoint.\n",
    "Now we will collect all features in an array called 'feature'. It contains 9 datablocks of each a 3 by 5 grid. "
   ]
  },
  {
   "cell_type": "code",
   "execution_count": 4,
   "metadata": {},
   "outputs": [
    {
     "name": "stdout",
     "output_type": "stream",
     "text": [
      "feature\n",
      "[[[ 0.  0.  0.  0.  0.]\n",
      "  [ 0.  0.  0.  0.  0.]\n",
      "  [ 0.  0.  0.  0.  0.]]\n",
      "\n",
      " [[ 0.  0.  0.  0.  0.]\n",
      "  [ 0.  0.  0.  0.  0.]\n",
      "  [ 0.  0.  0.  0.  0.]]\n",
      "\n",
      " [[ 0.  0.  0.  0.  0.]\n",
      "  [ 0.  0.  0.  0.  0.]\n",
      "  [ 0.  0.  0.  0.  0.]]\n",
      "\n",
      " [[ 0.  0.  0.  0.  0.]\n",
      "  [ 0.  0.  0.  0.  0.]\n",
      "  [ 0.  0.  0.  0.  0.]]\n",
      "\n",
      " [[ 0.  0.  0.  0.  0.]\n",
      "  [ 0.  0.  0.  0.  0.]\n",
      "  [ 0.  0.  0.  0.  0.]]\n",
      "\n",
      " [[ 0.  0.  0.  0.  0.]\n",
      "  [ 0.  0.  0.  0.  0.]\n",
      "  [ 0.  0.  0.  0.  0.]]\n",
      "\n",
      " [[ 0.  0.  0.  0.  0.]\n",
      "  [ 0.  0.  0.  0.  0.]\n",
      "  [ 0.  0.  0.  0.  0.]]\n",
      "\n",
      " [[ 0.  0.  0.  0.  0.]\n",
      "  [ 0.  0.  0.  0.  0.]\n",
      "  [ 0.  0.  0.  0.  0.]]\n",
      "\n",
      " [[ 0.  0.  0.  0.  0.]\n",
      "  [ 0.  0.  0.  0.  0.]\n",
      "  [ 0.  0.  0.  0.  0.]]]\n"
     ]
    }
   ],
   "source": [
    "print(\"feature\")\n",
    "feature = np.zeros((9, 3, 5))\n",
    "print(feature)"
   ]
  },
  {
   "cell_type": "code",
   "execution_count": 5,
   "metadata": {},
   "outputs": [
    {
     "name": "stdout",
     "output_type": "stream",
     "text": [
      "[[[   0.    9.   18.   27.   36.]\n",
      "  [  45.   54.   63.   72.   81.]\n",
      "  [  90.   99.  108.  117.  126.]]\n",
      "\n",
      " [[   0.    0.    0.    0.    0.]\n",
      "  [   0.    0.    0.    0.    0.]\n",
      "  [   0.    0.    0.    0.    0.]]\n",
      "\n",
      " [[   0.    0.    0.    0.    0.]\n",
      "  [   0.    0.    0.    0.    0.]\n",
      "  [   0.    0.    0.    0.    0.]]\n",
      "\n",
      " [[   0.    0.    0.    0.    0.]\n",
      "  [   0.    0.    0.    0.    0.]\n",
      "  [   0.    0.    0.    0.    0.]]\n",
      "\n",
      " [[   0.    0.    0.    0.    0.]\n",
      "  [   0.    0.    0.    0.    0.]\n",
      "  [   0.    0.    0.    0.    0.]]\n",
      "\n",
      " [[   0.    0.    0.    0.    0.]\n",
      "  [   0.    0.    0.    0.    0.]\n",
      "  [   0.    0.    0.    0.    0.]]\n",
      "\n",
      " [[   0.    0.    0.    0.    0.]\n",
      "  [   0.    0.    0.    0.    0.]\n",
      "  [   0.    0.    0.    0.    0.]]\n",
      "\n",
      " [[   0.    0.    0.    0.    0.]\n",
      "  [   0.    0.    0.    0.    0.]\n",
      "  [   0.    0.    0.    0.    0.]]\n",
      "\n",
      " [[   0.    0.    0.    0.    0.]\n",
      "  [   0.    0.    0.    0.    0.]\n",
      "  [   0.    0.    0.    0.    0.]]]\n"
     ]
    }
   ],
   "source": [
    "feature[0,:,:] = q1\n",
    "print(feature)"
   ]
  },
  {
   "cell_type": "code",
   "execution_count": 6,
   "metadata": {},
   "outputs": [
    {
     "name": "stdout",
     "output_type": "stream",
     "text": [
      "[[[   0.    9.   18.   27.   36.]\n",
      "  [  45.   54.   63.   72.   81.]\n",
      "  [  90.   99.  108.  117.  126.]]\n",
      "\n",
      " [[   1.   10.   19.   28.   37.]\n",
      "  [  46.   55.   64.   73.   82.]\n",
      "  [  91.  100.  109.  118.  127.]]\n",
      "\n",
      " [[   2.   11.   20.   29.   38.]\n",
      "  [  47.   56.   65.   74.   83.]\n",
      "  [  92.  101.  110.  119.  128.]]\n",
      "\n",
      " [[   3.   12.   21.   30.   39.]\n",
      "  [  48.   57.   66.   75.   84.]\n",
      "  [  93.  102.  111.  120.  129.]]\n",
      "\n",
      " [[   4.   13.   22.   31.   40.]\n",
      "  [  49.   58.   67.   76.   85.]\n",
      "  [  94.  103.  112.  121.  130.]]\n",
      "\n",
      " [[   5.   14.   23.   32.   41.]\n",
      "  [  50.   59.   68.   77.   86.]\n",
      "  [  95.  104.  113.  122.  131.]]\n",
      "\n",
      " [[   6.   15.   24.   33.   42.]\n",
      "  [  51.   60.   69.   78.   87.]\n",
      "  [  96.  105.  114.  123.  132.]]\n",
      "\n",
      " [[   7.   16.   25.   34.   43.]\n",
      "  [  52.   61.   70.   79.   88.]\n",
      "  [  97.  106.  115.  124.  133.]]\n",
      "\n",
      " [[   8.   17.   26.   35.   44.]\n",
      "  [  53.   62.   71.   80.   89.]\n",
      "  [  98.  107.  116.  125.  134.]]]\n"
     ]
    }
   ],
   "source": [
    "feature[1,:,:] = q2\n",
    "feature[2,:,:] = q3\n",
    "feature[3,:,:] = q4\n",
    "feature[4,:,:] = q5\n",
    "feature[5,:,:] = q6\n",
    "feature[6,:,:] = q7\n",
    "feature[7,:,:] = q8\n",
    "feature[8,:,:] = q9\n",
    "\n",
    "print(feature)"
   ]
  },
  {
   "cell_type": "code",
   "execution_count": 7,
   "metadata": {},
   "outputs": [
    {
     "name": "stdout",
     "output_type": "stream",
     "text": [
      "[[   0.    1.    2.    3.    4.    5.    6.    7.    8.]\n",
      " [   9.   10.   11.   12.   13.   14.   15.   16.   17.]\n",
      " [  18.   19.   20.   21.   22.   23.   24.   25.   26.]\n",
      " [  27.   28.   29.   30.   31.   32.   33.   34.   35.]\n",
      " [  36.   37.   38.   39.   40.   41.   42.   43.   44.]\n",
      " [  45.   46.   47.   48.   49.   50.   51.   52.   53.]\n",
      " [  54.   55.   56.   57.   58.   59.   60.   61.   62.]\n",
      " [  63.   64.   65.   66.   67.   68.   69.   70.   71.]\n",
      " [  72.   73.   74.   75.   76.   77.   78.   79.   80.]\n",
      " [  81.   82.   83.   84.   85.   86.   87.   88.   89.]\n",
      " [  90.   91.   92.   93.   94.   95.   96.   97.   98.]\n",
      " [  99.  100.  101.  102.  103.  104.  105.  106.  107.]\n",
      " [ 108.  109.  110.  111.  112.  113.  114.  115.  116.]\n",
      " [ 117.  118.  119.  120.  121.  122.  123.  124.  125.]\n",
      " [ 126.  127.  128.  129.  130.  131.  132.  133.  134.]]\n"
     ]
    }
   ],
   "source": [
    "feature = np.reshape(( np.reshape(feature.swapaxes(1,2), (3*5, 9), \"F\")).swapaxes(1,0), (3*5, 9))\n",
    "print(feature)\n",
    "#feature = np.arange(135).reshape(15, 9)"
   ]
  },
  {
   "cell_type": "code",
   "execution_count": null,
   "metadata": {},
   "outputs": [],
   "source": []
  },
  {
   "cell_type": "markdown",
   "metadata": {},
   "source": [
    "### Example Reynoulds stress\n",
    "\n",
    "ReStress_DNS[row,column,x,y]"
   ]
  },
  {
   "cell_type": "code",
   "execution_count": 8,
   "metadata": {
    "collapsed": true
   },
   "outputs": [],
   "source": [
    "ReStress_DNS = np.arange(9*15).reshape((3,3,3,5))\n",
    "#print(ReStress_DNS)\n"
   ]
  },
  {
   "cell_type": "code",
   "execution_count": 9,
   "metadata": {},
   "outputs": [
    {
     "ename": "NameError",
     "evalue": "name 'a' is not defined",
     "output_type": "error",
     "traceback": [
      "\u001b[0;31m---------------------------------------------------------------------------\u001b[0m",
      "\u001b[0;31mNameError\u001b[0m                                 Traceback (most recent call last)",
      "\u001b[0;32m<ipython-input-9-51fb07388c79>\u001b[0m in \u001b[0;36m<module>\u001b[0;34m()\u001b[0m\n\u001b[0;32m----> 1\u001b[0;31m \u001b[0ma\u001b[0m \u001b[0;34m=\u001b[0m \u001b[0mnp\u001b[0m\u001b[0;34m.\u001b[0m\u001b[0mreshape\u001b[0m\u001b[0;34m(\u001b[0m\u001b[0ma\u001b[0m\u001b[0;34m,\u001b[0m \u001b[0;34m(\u001b[0m\u001b[0;36m3\u001b[0m\u001b[0;34m,\u001b[0m \u001b[0;36m4\u001b[0m\u001b[0;34m)\u001b[0m\u001b[0;34m)\u001b[0m\u001b[0;34m\u001b[0m\u001b[0m\n\u001b[0m\u001b[1;32m      2\u001b[0m \u001b[0mprint\u001b[0m\u001b[0;34m(\u001b[0m\u001b[0ma\u001b[0m\u001b[0;34m)\u001b[0m\u001b[0;34m\u001b[0m\u001b[0m\n",
      "\u001b[0;31mNameError\u001b[0m: name 'a' is not defined"
     ]
    }
   ],
   "source": [
    "a = np.reshape(a, (3, 4))\n",
    "print(a)"
   ]
  },
  {
   "cell_type": "code",
   "execution_count": null,
   "metadata": {
    "collapsed": true
   },
   "outputs": [],
   "source": [
    "a = np.swapaxes(a, 0, 1)\n",
    "print(a)"
   ]
  },
  {
   "cell_type": "code",
   "execution_count": null,
   "metadata": {
    "collapsed": true
   },
   "outputs": [],
   "source": [
    "a= np.reshape(a, (3, 4))\n",
    "print(a)"
   ]
  },
  {
   "cell_type": "code",
   "execution_count": null,
   "metadata": {
    "collapsed": true
   },
   "outputs": [],
   "source": []
  }
 ],
 "metadata": {
  "kernelspec": {
   "display_name": "Python 3",
   "language": "python",
   "name": "python3"
  },
  "language_info": {
   "codemirror_mode": {
    "name": "ipython",
    "version": 3
   },
   "file_extension": ".py",
   "mimetype": "text/x-python",
   "name": "python",
   "nbconvert_exporter": "python",
   "pygments_lexer": "ipython3",
   "version": "3.6.3"
  }
 },
 "nbformat": 4,
 "nbformat_minor": 2
}
